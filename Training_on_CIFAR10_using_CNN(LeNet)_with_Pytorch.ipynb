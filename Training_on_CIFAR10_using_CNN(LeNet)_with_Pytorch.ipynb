{
  "nbformat": 4,
  "nbformat_minor": 0,
  "metadata": {
    "colab": {
      "name": "Training on CIFAR10 using CNN(LeNet) with Pytorch.ipynb",
      "provenance": [],
      "collapsed_sections": []
    },
    "kernelspec": {
      "name": "python3",
      "display_name": "Python 3"
    },
    "accelerator": "GPU"
  },
  "cells": [
    {
      "cell_type": "code",
      "metadata": {
        "id": "lIYtflBobjHi",
        "colab_type": "code",
        "colab": {}
      },
      "source": [
        "import torch\n",
        "import matplotlib.pyplot as plt\n",
        "import numpy as np"
      ],
      "execution_count": 0,
      "outputs": []
    },
    {
      "cell_type": "code",
      "metadata": {
        "id": "ndh6j8zAezA0",
        "colab_type": "code",
        "outputId": "d7507032-cff4-4857-c6c6-9d6553c0de9f",
        "colab": {
          "base_uri": "https://localhost:8080/",
          "height": 52
        }
      },
      "source": [
        "import torchvision\n",
        "import torchvision.transforms as transforms\n",
        "#Downloading CIFAR10 Dataset\n",
        "batch_size = 128 #Batch size should always be in mutliple of 2 for better Training\n",
        "trainset = torchvision.datasets.CIFAR10(root='./data', train=True, download=True, transform=transforms.ToTensor())\n",
        "trainloader = torch.utils.data.DataLoader(trainset, batch_size=batch_size, shuffle=True)\n",
        "testset = torchvision.datasets.CIFAR10(root='./data', train=False, download=True, transform=transforms.ToTensor())\n",
        "testloader = torch.utils.data.DataLoader(testset, batch_size=batch_size, shuffle=False)"
      ],
      "execution_count": 0,
      "outputs": [
        {
          "output_type": "stream",
          "text": [
            "Files already downloaded and verified\n",
            "Files already downloaded and verified\n"
          ],
          "name": "stdout"
        }
      ]
    },
    {
      "cell_type": "code",
      "metadata": {
        "id": "6RZIICNNhymE",
        "colab_type": "code",
        "colab": {}
      },
      "source": [
        "import torch.nn as nn\n",
        "#torchsummary gives fine visualization of your model network \n",
        "from torchsummary import summary"
      ],
      "execution_count": 0,
      "outputs": []
    },
    {
      "cell_type": "code",
      "metadata": {
        "id": "MoQe6gMzf2hh",
        "colab_type": "code",
        "outputId": "9c577fdc-c25f-4d07-cd68-e10836e2b893",
        "colab": {
          "base_uri": "https://localhost:8080/",
          "height": 34
        }
      },
      "source": [
        "#Using inbuilt Colab GPU\n",
        "device = torch.device(\"cuda:0\" if torch.cuda.is_available() else \"cpu\")\n",
        "print(device)"
      ],
      "execution_count": 0,
      "outputs": [
        {
          "output_type": "stream",
          "text": [
            "cuda:0\n"
          ],
          "name": "stdout"
        }
      ]
    },
    {
      "cell_type": "code",
      "metadata": {
        "id": "oaM_ixQwfh9_",
        "colab_type": "code",
        "colab": {}
      },
      "source": [
        "#Using tanh non-linear activation\n",
        "class LeNet(nn.Module):\n",
        "    def __init__(self): \n",
        "        super(LeNet, self).__init__()\n",
        "        self.cnn_model = nn.Sequential(\n",
        "            nn.Conv2d(3, 6, 5),         # (N, 3, 32, 32) -> (N,  6, 28, 28)\n",
        "            nn.Tanh(),\n",
        "            nn.AvgPool2d(2, stride=2),  # (N, 6, 28, 28) -> (N,  6, 14, 14)\n",
        "            nn.Conv2d(6, 16, 5),        # (N, 6, 14, 14) -> (N, 16, 10, 10)  \n",
        "            nn.Tanh(),\n",
        "            nn.AvgPool2d(2, stride=2)   # (N,16, 10, 10) -> (N, 16, 5, 5)\n",
        "        )\n",
        "        self.fc_model = nn.Sequential(\n",
        "            nn.Linear(400,120),         # (N, 400) -> (N, 120)\n",
        "            nn.Tanh(),\n",
        "            nn.Linear(120,84),          # (N, 120) -> (N, 84)\n",
        "            nn.Tanh(),\n",
        "            nn.Linear(84,10)            # (N, 84)  -> (N, 10)\n",
        "        )\n",
        "        \n",
        "    def forward(self, x):\n",
        "        x = self.cnn_model(x)\n",
        "        x = x.view(x.size(0), -1)\n",
        "        x = self.fc_model(x)\n",
        "        return x"
      ],
      "execution_count": 0,
      "outputs": []
    },
    {
      "cell_type": "code",
      "metadata": {
        "id": "EbD-zxV1iIro",
        "colab_type": "code",
        "colab": {}
      },
      "source": [
        "def evaluation(dataloader):\n",
        "    total, correct = 0, 0\n",
        "    for data in dataloader:\n",
        "        inputs, labels = data\n",
        "        inputs, labels = inputs.to(device), labels.to(device)\n",
        "        outputs = net(inputs)\n",
        "        _, pred = torch.max(outputs.data, 1)\n",
        "        total += labels.size(0)\n",
        "        correct += (pred == labels).sum().item()\n",
        "    return 100 * correct / total"
      ],
      "execution_count": 0,
      "outputs": []
    },
    {
      "cell_type": "code",
      "metadata": {
        "id": "bxgt-tOpiI0e",
        "colab_type": "code",
        "colab": {}
      },
      "source": [
        "import torch.optim as optim\n",
        "net = LeNet().to(device)\n",
        "loss_fn = nn.CrossEntropyLoss()\n",
        "opt = optim.Adam(net.parameters())"
      ],
      "execution_count": 0,
      "outputs": []
    },
    {
      "cell_type": "code",
      "metadata": {
        "id": "LkxXeRRgiI7w",
        "colab_type": "code",
        "outputId": "b5372e65-a161-4e20-829c-788229d7e6b2",
        "colab": {
          "base_uri": "https://localhost:8080/",
          "height": 1000
        }
      },
      "source": [
        "%%time\n",
        "max_epochs = 50\n",
        "\n",
        "for epoch in range(max_epochs):\n",
        "\n",
        "    for i, data in enumerate(trainloader, 0):\n",
        "\n",
        "        inputs, labels = data\n",
        "        inputs, labels = inputs.to(device), labels.to(device)\n",
        "\n",
        "        opt.zero_grad()\n",
        "\n",
        "        outputs = net(inputs)\n",
        "        loss = loss_fn(outputs, labels)\n",
        "        loss.backward()\n",
        "        opt.step()\n",
        "        \n",
        "    print('Epoch: %d/%d ,Test acc: %0.2f, Train acc: %0.2f' % (epoch, max_epochs, evaluation(testloader), evaluation(trainloader)))\n",
        "\n",
        "\n",
        "plt.plot(loss_epoch_arr)\n",
        "plt.xlabel(\"epochs\")\n",
        "plt.ylabel(\"loss\")\n",
        "plt.title(\"Epochs vs Loss - Lenet With Tanh on CIFAR10\")\n",
        "plt.show()\n"
      ],
      "execution_count": 0,
      "outputs": [
        {
          "output_type": "stream",
          "text": [
            "Epoch: 0/50 ,Test acc: 38.43, Train acc: 38.32\n",
            "Epoch: 1/50 ,Test acc: 43.33, Train acc: 43.71\n",
            "Epoch: 2/50 ,Test acc: 47.43, Train acc: 47.35\n",
            "Epoch: 3/50 ,Test acc: 48.98, Train acc: 50.02\n",
            "Epoch: 4/50 ,Test acc: 51.24, Train acc: 53.20\n",
            "Epoch: 5/50 ,Test acc: 51.68, Train acc: 54.23\n",
            "Epoch: 6/50 ,Test acc: 52.75, Train acc: 56.42\n",
            "Epoch: 7/50 ,Test acc: 53.44, Train acc: 57.84\n",
            "Epoch: 8/50 ,Test acc: 53.93, Train acc: 58.64\n",
            "Epoch: 9/50 ,Test acc: 55.08, Train acc: 60.32\n",
            "Epoch: 10/50 ,Test acc: 55.37, Train acc: 61.18\n",
            "Epoch: 11/50 ,Test acc: 54.82, Train acc: 61.85\n",
            "Epoch: 12/50 ,Test acc: 55.13, Train acc: 62.64\n",
            "Epoch: 13/50 ,Test acc: 55.06, Train acc: 63.57\n",
            "Epoch: 14/50 ,Test acc: 55.36, Train acc: 64.40\n",
            "Epoch: 15/50 ,Test acc: 55.44, Train acc: 65.06\n",
            "Epoch: 16/50 ,Test acc: 55.11, Train acc: 65.53\n",
            "Epoch: 17/50 ,Test acc: 55.44, Train acc: 66.34\n",
            "Epoch: 18/50 ,Test acc: 55.96, Train acc: 67.26\n",
            "Epoch: 19/50 ,Test acc: 55.89, Train acc: 67.97\n",
            "Epoch: 20/50 ,Test acc: 55.74, Train acc: 68.54\n",
            "Epoch: 21/50 ,Test acc: 54.90, Train acc: 68.50\n",
            "Epoch: 22/50 ,Test acc: 54.90, Train acc: 69.12\n",
            "Epoch: 23/50 ,Test acc: 55.05, Train acc: 70.49\n",
            "Epoch: 24/50 ,Test acc: 55.29, Train acc: 70.81\n",
            "Epoch: 25/50 ,Test acc: 54.71, Train acc: 71.20\n",
            "Epoch: 26/50 ,Test acc: 54.80, Train acc: 71.40\n",
            "Epoch: 27/50 ,Test acc: 55.23, Train acc: 73.15\n",
            "Epoch: 28/50 ,Test acc: 55.04, Train acc: 73.10\n",
            "Epoch: 29/50 ,Test acc: 54.59, Train acc: 74.13\n",
            "Epoch: 30/50 ,Test acc: 54.74, Train acc: 73.32\n",
            "Epoch: 31/50 ,Test acc: 54.52, Train acc: 74.37\n",
            "Epoch: 32/50 ,Test acc: 54.49, Train acc: 74.92\n",
            "Epoch: 33/50 ,Test acc: 54.03, Train acc: 75.31\n",
            "Epoch: 34/50 ,Test acc: 54.43, Train acc: 76.04\n",
            "Epoch: 35/50 ,Test acc: 54.19, Train acc: 74.58\n",
            "Epoch: 36/50 ,Test acc: 54.07, Train acc: 77.31\n",
            "Epoch: 37/50 ,Test acc: 53.51, Train acc: 75.75\n",
            "Epoch: 38/50 ,Test acc: 53.88, Train acc: 77.74\n",
            "Epoch: 39/50 ,Test acc: 53.78, Train acc: 78.22\n",
            "Epoch: 40/50 ,Test acc: 54.03, Train acc: 78.96\n",
            "Epoch: 41/50 ,Test acc: 53.49, Train acc: 79.25\n",
            "Epoch: 42/50 ,Test acc: 54.08, Train acc: 79.87\n",
            "Epoch: 43/50 ,Test acc: 53.98, Train acc: 80.43\n",
            "Epoch: 44/50 ,Test acc: 53.48, Train acc: 81.03\n",
            "Epoch: 45/50 ,Test acc: 53.22, Train acc: 81.15\n",
            "Epoch: 46/50 ,Test acc: 53.60, Train acc: 81.22\n",
            "Epoch: 47/50 ,Test acc: 53.56, Train acc: 81.79\n",
            "Epoch: 48/50 ,Test acc: 53.71, Train acc: 81.75\n",
            "Epoch: 49/50 ,Test acc: 53.42, Train acc: 82.87\n"
          ],
          "name": "stdout"
        },
        {
          "output_type": "display_data",
          "data": {
            "image/png": "[encoded data removed]",
            "text/plain": [
              "<Figure size 432x288 with 1 Axes>"
            ]
          },
          "metadata": {
            "tags": []
          }
        },
        {
          "output_type": "stream",
          "text": [
            "CPU times: user 15min 15s, sys: 4.5 s, total: 15min 20s\n",
            "Wall time: 15min 21s\n"
          ],
          "name": "stdout"
        }
      ]
    },
    {
      "cell_type": "code",
      "metadata": {
        "id": "x500aIr4iJA6",
        "colab_type": "code",
        "outputId": "37d69d00-e0f0-46bb-cbda-2a89a1e106b4",
        "colab": {
          "base_uri": "https://localhost:8080/",
          "height": 34
        }
      },
      "source": [
        "print('Test acc: %0.2f, Train acc: %0.2f' % (evaluation(testloader), evaluation(trainloader)))"
      ],
      "execution_count": 0,
      "outputs": [
        {
          "output_type": "stream",
          "text": [
            "Test acc: 53.42, Train acc: 82.87\n"
          ],
          "name": "stdout"
        }
      ]
    },
    {
      "cell_type": "markdown",
      "metadata": {
        "id": "ZaB7lKTxjCJ_",
        "colab_type": "text"
      },
      "source": [
        "## Using ReLU activation function\n",
        "We can clearly see model is overfitting the data so we use another NON_LINEAR Activation function \"ReLU\""
      ]
    },
    {
      "cell_type": "code",
      "metadata": {
        "id": "4IW0WO6Yhn45",
        "colab_type": "code",
        "colab": {}
      },
      "source": [
        "#Using ReLU non-linear activation\n",
        "class LeNet_ReLU(nn.Module):\n",
        "    def __init__(self): \n",
        "        super(LeNet_ReLU, self).__init__()\n",
        "        self.cnn_model = nn.Sequential(\n",
        "            nn.Conv2d(3, 6, 5),         # (N, 3, 32, 32) -> (N,  6, 28, 28)\n",
        "            nn.ReLU(),\n",
        "            nn.AvgPool2d(2, stride=2),  # (N, 6, 28, 28) -> (N,  6, 14, 14)\n",
        "            nn.Conv2d(6, 16, 5),        # (N, 6, 14, 14) -> (N, 16, 10, 10)  \n",
        "            nn.ReLU(),\n",
        "            nn.AvgPool2d(2, stride=2)   # (N,16, 10, 10) -> (N, 16, 5, 5)\n",
        "        )\n",
        "        self.fc_model = nn.Sequential(\n",
        "            nn.Linear(400,120),         # (N, 400) -> (N, 120)\n",
        "            nn.ReLU(),\n",
        "            nn.Linear(120,84),          # (N, 120) -> (N, 84)\n",
        "            nn.ReLU(),\n",
        "            nn.Linear(84,10)            # (N, 84)  -> (N, 10)\n",
        "        )\n",
        "        \n",
        "    def forward(self, x):\n",
        "        x = self.cnn_model(x)\n",
        "        x = x.view(x.size(0), -1)\n",
        "        x = self.fc_model(x)\n",
        "        return x"
      ],
      "execution_count": 0,
      "outputs": []
    },
    {
      "cell_type": "code",
      "metadata": {
        "id": "liXoGG7khJq7",
        "colab_type": "code",
        "colab": {}
      },
      "source": [
        "net = LeNet_ReLU().to(device)\n",
        "loss_fn = nn.CrossEntropyLoss()\n",
        "opt = optim.Adam(net.parameters())"
      ],
      "execution_count": 0,
      "outputs": []
    },
    {
      "cell_type": "code",
      "metadata": {
        "id": "kbSJ7nPhhLkT",
        "colab_type": "code",
        "outputId": "8aa4a57a-0223-4118-a82f-290dfb7da2bd",
        "colab": {
          "base_uri": "https://localhost:8080/",
          "height": 1000
        }
      },
      "source": [
        "%%time\n",
        "loss_arr = []\n",
        "loss_epoch_arr = []\n",
        "max_epochs = 50\n",
        "\n",
        "for epoch in range(max_epochs):\n",
        "\n",
        "    for i, data in enumerate(trainloader, 0):\n",
        "\n",
        "        inputs, labels = data\n",
        "        inputs, labels = inputs.to(device), labels.to(device)\n",
        "\n",
        "        opt.zero_grad()\n",
        "\n",
        "        outputs = net(inputs)\n",
        "        loss = loss_fn(outputs, labels)\n",
        "        loss.backward()\n",
        "        opt.step()\n",
        "        loss_arr.append(loss.item())\n",
        "        \n",
        "    loss_epoch_arr.append(loss.item())\n",
        "        \n",
        "    print('Epoch: %d/%d, Test acc: %0.2f, Train acc: %0.2f' % (epoch, max_epochs, evaluation(testloader), evaluation(trainloader)))\n",
        "    \n",
        "    \n",
        "plt.plot(loss_epoch_arr)\n",
        "plt.xlabel(\"epochs\")\n",
        "plt.ylabel(\"loss\")\n",
        "plt.title(\"Epochs vs Loss - Lenet With ReLU on CIFAR10\")\n",
        "plt.show()"
      ],
      "execution_count": 0,
      "outputs": [
        {
          "output_type": "stream",
          "text": [
            "Epoch: 0/50, Test acc: 39.81, Train acc: 39.36\n",
            "Epoch: 1/50, Test acc: 44.95, Train acc: 44.83\n",
            "Epoch: 2/50, Test acc: 48.23, Train acc: 48.11\n",
            "Epoch: 3/50, Test acc: 49.19, Train acc: 50.23\n",
            "Epoch: 4/50, Test acc: 51.92, Train acc: 53.15\n",
            "Epoch: 5/50, Test acc: 52.84, Train acc: 54.32\n",
            "Epoch: 6/50, Test acc: 54.22, Train acc: 55.79\n",
            "Epoch: 7/50, Test acc: 53.12, Train acc: 55.89\n",
            "Epoch: 8/50, Test acc: 55.14, Train acc: 58.38\n",
            "Epoch: 9/50, Test acc: 55.30, Train acc: 58.78\n",
            "Epoch: 10/50, Test acc: 56.74, Train acc: 60.16\n",
            "Epoch: 11/50, Test acc: 56.56, Train acc: 60.68\n",
            "Epoch: 12/50, Test acc: 56.60, Train acc: 61.68\n",
            "Epoch: 13/50, Test acc: 57.13, Train acc: 61.68\n",
            "Epoch: 14/50, Test acc: 57.53, Train acc: 62.12\n",
            "Epoch: 15/50, Test acc: 57.33, Train acc: 63.20\n",
            "Epoch: 16/50, Test acc: 57.51, Train acc: 63.72\n",
            "Epoch: 17/50, Test acc: 58.02, Train acc: 64.91\n",
            "Epoch: 18/50, Test acc: 57.52, Train acc: 64.69\n",
            "Epoch: 19/50, Test acc: 58.91, Train acc: 65.51\n",
            "Epoch: 20/50, Test acc: 58.63, Train acc: 66.53\n",
            "Epoch: 21/50, Test acc: 58.79, Train acc: 67.19\n",
            "Epoch: 22/50, Test acc: 58.83, Train acc: 67.20\n",
            "Epoch: 23/50, Test acc: 58.61, Train acc: 67.65\n",
            "Epoch: 24/50, Test acc: 58.85, Train acc: 67.87\n",
            "Epoch: 25/50, Test acc: 59.95, Train acc: 69.40\n",
            "Epoch: 26/50, Test acc: 59.33, Train acc: 69.50\n",
            "Epoch: 27/50, Test acc: 59.68, Train acc: 70.24\n",
            "Epoch: 28/50, Test acc: 59.74, Train acc: 70.15\n",
            "Epoch: 29/50, Test acc: 58.85, Train acc: 70.43\n",
            "Epoch: 30/50, Test acc: 60.19, Train acc: 71.47\n",
            "Epoch: 31/50, Test acc: 58.84, Train acc: 70.83\n",
            "Epoch: 32/50, Test acc: 59.37, Train acc: 71.17\n",
            "Epoch: 33/50, Test acc: 59.75, Train acc: 72.23\n",
            "Epoch: 34/50, Test acc: 58.76, Train acc: 71.22\n",
            "Epoch: 35/50, Test acc: 59.36, Train acc: 72.07\n",
            "Epoch: 36/50, Test acc: 60.38, Train acc: 73.41\n",
            "Epoch: 37/50, Test acc: 59.69, Train acc: 73.56\n",
            "Epoch: 38/50, Test acc: 60.13, Train acc: 73.80\n",
            "Epoch: 39/50, Test acc: 58.78, Train acc: 73.09\n",
            "Epoch: 40/50, Test acc: 59.88, Train acc: 74.42\n",
            "Epoch: 41/50, Test acc: 59.89, Train acc: 75.96\n",
            "Epoch: 42/50, Test acc: 59.27, Train acc: 74.93\n",
            "Epoch: 43/50, Test acc: 60.19, Train acc: 75.78\n",
            "Epoch: 44/50, Test acc: 59.49, Train acc: 75.35\n",
            "Epoch: 45/50, Test acc: 59.61, Train acc: 76.41\n",
            "Epoch: 46/50, Test acc: 59.52, Train acc: 76.22\n",
            "Epoch: 47/50, Test acc: 59.88, Train acc: 76.05\n",
            "Epoch: 48/50, Test acc: 60.22, Train acc: 77.41\n",
            "Epoch: 49/50, Test acc: 59.44, Train acc: 76.91\n"
          ],
          "name": "stdout"
        },
        {
          "output_type": "display_data",
          "data": {
            "image/png": "[encoded data removed]",
            "text/plain": [
              "<Figure size 432x288 with 1 Axes>"
            ]
          },
          "metadata": {
            "tags": []
          }
        },
        {
          "output_type": "stream",
          "text": [
            "CPU times: user 14min 52s, sys: 4.37 s, total: 14min 56s\n",
            "Wall time: 14min 58s\n"
          ],
          "name": "stdout"
        }
      ]
    },
    {
      "cell_type": "code",
      "metadata": {
        "id": "4hsm__NXhNZY",
        "colab_type": "code",
        "outputId": "af9db996-d6d7-46cd-c414-98c03836f33e",
        "colab": {
          "base_uri": "https://localhost:8080/",
          "height": 34
        }
      },
      "source": [
        "print('Test acc: %0.2f, Train acc: %0.2f' % (evaluation(testloader), evaluation(trainloader)))"
      ],
      "execution_count": 0,
      "outputs": [
        {
          "output_type": "stream",
          "text": [
            "Test acc: 59.44, Train acc: 76.91\n"
          ],
          "name": "stdout"
        }
      ]
    },
    {
      "cell_type": "markdown",
      "metadata": {
        "colab_type": "text",
        "id": "RLoJL7ZAvAOu"
      },
      "source": [
        "## Adding L2 Regularization\n",
        "- We can see that after changing Activation Function we can see improvement in model but still it is overfitting the data, so we will apply L2 regularization using weight_decay in optim."
      ]
    },
    {
      "cell_type": "code",
      "metadata": {
        "id": "GNdKqPHGuFjt",
        "colab_type": "code",
        "colab": {}
      },
      "source": [
        "net = LeNet().to(device)\n",
        "loss_fn = nn.CrossEntropyLoss()\n",
        "\n",
        "#weight_decay = L2\n",
        "optimizer_l2 = torch.optim.Adam(net.parameters(), lr=1e-4, weight_decay=1e-5)\n",
        "\n",
        "#optimizer = optim.SGD(net.parameters(), lr=0.001, momentum=0.9)"
      ],
      "execution_count": 0,
      "outputs": []
    },
    {
      "cell_type": "code",
      "metadata": {
        "id": "HVauXDLbuRkd",
        "colab_type": "code",
        "outputId": "d22853f2-ce38-4755-a2d2-3c52b78c979b",
        "colab": {
          "base_uri": "https://localhost:8080/",
          "height": 1000
        }
      },
      "source": [
        "%%time\n",
        "loss_arr = []\n",
        "loss_epoch_arr = []\n",
        "max_epochs = 50\n",
        "\n",
        "for epoch in range(max_epochs):\n",
        "\n",
        "    for i, data in enumerate(trainloader, 0):\n",
        "      \n",
        "        # get the inputs\n",
        "        inputs, labels = data\n",
        "        \n",
        "        #move inputs to gpu\n",
        "        inputs, labels = inputs.to(device), labels.to(device)\n",
        "        \n",
        "        # zero the parameter gradients\n",
        "        optimizer_l2.zero_grad()\n",
        "        \n",
        "        # forward + backward + optimize\n",
        "        outputs = net(inputs)\n",
        "        loss = loss_fn(outputs, labels)\n",
        "        loss.backward()\n",
        "        optimizer_l2.step()\n",
        "        \n",
        "        #store loss value for loss plot\n",
        "        loss_arr.append(loss.item())\n",
        "        \n",
        "    loss_epoch_arr.append(loss.item())\n",
        "        \n",
        "    print('Epoch: %d/%d, Test acc: %0.2f, Train acc: %0.2f' % (epoch, max_epochs, evaluation(testloader), evaluation(trainloader)))\n",
        "    \n",
        "    \n",
        "plt.plot(loss_epoch_arr)\n",
        "plt.xlabel(\"epochs\")\n",
        "plt.ylabel(\"loss\")\n",
        "plt.title(\"\")\n",
        "plt.show()    "
      ],
      "execution_count": 0,
      "outputs": [
        {
          "output_type": "stream",
          "text": [
            "Epoch: 0/50, Test acc: 29.18, Train acc: 28.70\n",
            "Epoch: 1/50, Test acc: 31.99, Train acc: 31.69\n",
            "Epoch: 2/50, Test acc: 33.38, Train acc: 34.02\n",
            "Epoch: 3/50, Test acc: 35.33, Train acc: 35.72\n",
            "Epoch: 4/50, Test acc: 37.66, Train acc: 37.31\n",
            "Epoch: 5/50, Test acc: 38.13, Train acc: 38.32\n",
            "Epoch: 6/50, Test acc: 39.60, Train acc: 39.32\n",
            "Epoch: 7/50, Test acc: 40.15, Train acc: 39.83\n",
            "Epoch: 8/50, Test acc: 41.03, Train acc: 40.78\n",
            "Epoch: 9/50, Test acc: 41.41, Train acc: 41.67\n",
            "Epoch: 10/50, Test acc: 42.37, Train acc: 42.39\n",
            "Epoch: 11/50, Test acc: 42.74, Train acc: 43.23\n",
            "Epoch: 12/50, Test acc: 43.13, Train acc: 43.53\n",
            "Epoch: 13/50, Test acc: 43.95, Train acc: 44.22\n",
            "Epoch: 14/50, Test acc: 44.44, Train acc: 44.82\n",
            "Epoch: 15/50, Test acc: 45.08, Train acc: 45.52\n",
            "Epoch: 16/50, Test acc: 45.42, Train acc: 45.51\n",
            "Epoch: 17/50, Test acc: 46.09, Train acc: 46.20\n",
            "Epoch: 18/50, Test acc: 46.38, Train acc: 46.77\n",
            "Epoch: 19/50, Test acc: 46.80, Train acc: 46.89\n",
            "Epoch: 20/50, Test acc: 47.27, Train acc: 47.28\n",
            "Epoch: 21/50, Test acc: 47.79, Train acc: 47.99\n",
            "Epoch: 22/50, Test acc: 47.97, Train acc: 48.20\n",
            "Epoch: 23/50, Test acc: 47.88, Train acc: 48.46\n",
            "Epoch: 24/50, Test acc: 48.06, Train acc: 48.60\n",
            "Epoch: 25/50, Test acc: 48.35, Train acc: 49.25\n",
            "Epoch: 26/50, Test acc: 48.79, Train acc: 49.65\n",
            "Epoch: 27/50, Test acc: 49.07, Train acc: 49.90\n",
            "Epoch: 28/50, Test acc: 49.32, Train acc: 50.14\n",
            "Epoch: 29/50, Test acc: 49.20, Train acc: 50.51\n",
            "Epoch: 30/50, Test acc: 49.38, Train acc: 50.89\n",
            "Epoch: 31/50, Test acc: 49.79, Train acc: 51.18\n",
            "Epoch: 32/50, Test acc: 50.13, Train acc: 51.50\n",
            "Epoch: 33/50, Test acc: 49.73, Train acc: 51.32\n",
            "Epoch: 34/50, Test acc: 50.18, Train acc: 51.93\n",
            "Epoch: 35/50, Test acc: 50.54, Train acc: 52.05\n",
            "Epoch: 36/50, Test acc: 50.78, Train acc: 52.35\n",
            "Epoch: 37/50, Test acc: 50.98, Train acc: 52.82\n",
            "Epoch: 38/50, Test acc: 51.03, Train acc: 53.09\n",
            "Epoch: 39/50, Test acc: 51.21, Train acc: 53.08\n",
            "Epoch: 40/50, Test acc: 51.14, Train acc: 53.32\n",
            "Epoch: 41/50, Test acc: 51.26, Train acc: 53.26\n",
            "Epoch: 42/50, Test acc: 51.68, Train acc: 53.57\n",
            "Epoch: 43/50, Test acc: 51.75, Train acc: 53.93\n",
            "Epoch: 44/50, Test acc: 51.46, Train acc: 54.15\n",
            "Epoch: 45/50, Test acc: 52.12, Train acc: 54.51\n",
            "Epoch: 46/50, Test acc: 52.57, Train acc: 54.81\n",
            "Epoch: 47/50, Test acc: 52.70, Train acc: 55.04\n",
            "Epoch: 48/50, Test acc: 52.59, Train acc: 55.02\n",
            "Epoch: 49/50, Test acc: 52.69, Train acc: 55.32\n"
          ],
          "name": "stdout"
        },
        {
          "output_type": "display_data",
          "data": {
            "image/png": "[encoded data removed]",
            "text/plain": [
              "<Figure size 432x288 with 1 Axes>"
            ]
          },
          "metadata": {
            "tags": []
          }
        },
        {
          "output_type": "stream",
          "text": [
            "CPU times: user 15min 23s, sys: 4.5 s, total: 15min 28s\n",
            "Wall time: 15min 29s\n"
          ],
          "name": "stdout"
        }
      ]
    },
    {
      "cell_type": "code",
      "metadata": {
        "id": "B0szcpp-uSwR",
        "colab_type": "code",
        "outputId": "35d78ae6-e03b-4964-cc83-f8ec6d9e5adb",
        "colab": {
          "base_uri": "https://localhost:8080/",
          "height": 34
        }
      },
      "source": [
        "print('Test acc: %0.2f, Train acc: %0.2f' % (evaluation(testloader), evaluation(trainloader)))"
      ],
      "execution_count": 0,
      "outputs": [
        {
          "output_type": "stream",
          "text": [
            "Test acc: 52.69, Train acc: 55.32\n"
          ],
          "name": "stdout"
        }
      ]
    },
    {
      "cell_type": "markdown",
      "metadata": {
        "id": "DCut2iCI2i32",
        "colab_type": "text"
      },
      "source": [
        "## Conlusion\n",
        "We we able to remove overfitting in our Model but Accuracy was low as it was a basic Neural network. For Higher accuracy we can Use VGG16,ResNet18,MobileNetV2 and much more."
      ]
    }
  ]
}